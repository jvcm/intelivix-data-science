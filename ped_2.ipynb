{
  "nbformat": 4,
  "nbformat_minor": 0,
  "metadata": {
    "colab": {
      "name": "ped_2.ipynb",
      "version": "0.3.2",
      "provenance": [],
      "collapsed_sections": [],
      "include_colab_link": true
    },
    "kernelspec": {
      "name": "python3",
      "display_name": "Python 3"
    },
    "accelerator": "GPU"
  },
  "cells": [
    {
      "cell_type": "markdown",
      "metadata": {
        "id": "view-in-github",
        "colab_type": "text"
      },
      "source": [
        "<a href=\"https://colab.research.google.com/github/jvcm/intelivix_data_science/blob/master/ped_2.ipynb\" target=\"_parent\"><img src=\"https://colab.research.google.com/assets/colab-badge.svg\" alt=\"Open In Colab\"/></a>"
      ]
    },
    {
      "metadata": {
        "id": "t0nrU4xUkcj8",
        "colab_type": "code",
        "outputId": "9229880c-6443-44ef-bd08-df54cc37ce81",
        "colab": {
          "base_uri": "https://localhost:8080/",
          "height": 69
        }
      },
      "cell_type": "code",
      "source": [
        "!pip install --upgrade scikit-learn"
      ],
      "execution_count": 1,
      "outputs": [
        {
          "output_type": "stream",
          "text": [
            "Requirement already up-to-date: scikit-learn in /usr/local/lib/python3.6/dist-packages (0.20.1)\n",
            "Requirement already satisfied, skipping upgrade: numpy>=1.8.2 in /usr/local/lib/python3.6/dist-packages (from scikit-learn) (1.14.6)\n",
            "Requirement already satisfied, skipping upgrade: scipy>=0.13.3 in /usr/local/lib/python3.6/dist-packages (from scikit-learn) (1.1.0)\n"
          ],
          "name": "stdout"
        }
      ]
    },
    {
      "metadata": {
        "id": "9JPz3e-XZytG",
        "colab_type": "code",
        "colab": {}
      },
      "cell_type": "code",
      "source": [
        "from google.colab import files"
      ],
      "execution_count": 0,
      "outputs": []
    },
    {
      "metadata": {
        "id": "Lt_cU6mxZ41C",
        "colab_type": "code",
        "outputId": "e9a28027-1c68-416c-9b37-58b1ad71ac5b",
        "colab": {
          "resources": {
            "http://localhost:8080/nbextensions/google.colab/files.js": {
              "data": "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",
              "ok": true,
              "headers": [
                [
                  "content-type",
                  "application/javascript"
                ]
              ],
              "status": 200,
              "status_text": "OK"
            }
          },
          "base_uri": "https://localhost:8080/",
          "height": 115
        }
      },
      "cell_type": "code",
      "source": [
        "uploaded = files.upload()"
      ],
      "execution_count": 4,
      "outputs": [
        {
          "output_type": "display_data",
          "data": {
            "text/html": [
              "\n",
              "     <input type=\"file\" id=\"files-11f63c5a-1ab7-4c8e-92a1-0a14d14cb1ad\" name=\"files[]\" multiple disabled />\n",
              "     <output id=\"result-11f63c5a-1ab7-4c8e-92a1-0a14d14cb1ad\">\n",
              "      Upload widget is only available when the cell has been executed in the\n",
              "      current browser session. Please rerun this cell to enable.\n",
              "      </output>\n",
              "      <script src=\"/nbextensions/google.colab/files.js\"></script> "
            ],
            "text/plain": [
              "<IPython.core.display.HTML object>"
            ]
          },
          "metadata": {
            "tags": []
          }
        },
        {
          "output_type": "stream",
          "text": [
            "Saving test.tsv to test.tsv\n",
            "Saving train.tsv to train.tsv\n"
          ],
          "name": "stdout"
        }
      ]
    },
    {
      "metadata": {
        "id": "15Y0hvusZw67",
        "colab_type": "code",
        "outputId": "0c8674be-52e1-4f5a-c738-d1cc29023871",
        "colab": {
          "base_uri": "https://localhost:8080/",
          "height": 34
        }
      },
      "cell_type": "code",
      "source": [
        "import numpy as np\n",
        "import pandas as pd\n",
        "import matplotlib.pyplot as plt\n",
        "import seaborn as sns\n",
        "sns.set()\n",
        "import re\n",
        "from sklearn.model_selection import train_test_split\n",
        "from sklearn.feature_extraction.text import CountVectorizer\n",
        "from sklearn.metrics import accuracy_score\n",
        "from sklearn.metrics import classification_report\n",
        "from sklearn.preprocessing import OneHotEncoder\n",
        "import keras"
      ],
      "execution_count": 5,
      "outputs": [
        {
          "output_type": "stream",
          "text": [
            "Using TensorFlow backend.\n"
          ],
          "name": "stderr"
        }
      ]
    },
    {
      "metadata": {
        "id": "W06g-N8AZw7S",
        "colab_type": "text"
      },
      "cell_type": "markdown",
      "source": [
        "# Desafio P&D 2"
      ]
    },
    {
      "metadata": {
        "id": "GeZQSuS-Zw7W",
        "colab_type": "text"
      },
      "cell_type": "markdown",
      "source": [
        "## 1) Pré processamento dos dados"
      ]
    },
    {
      "metadata": {
        "id": "oyl0kuqtZw7c",
        "colab_type": "text"
      },
      "cell_type": "markdown",
      "source": [
        "Os dados a serem processados se encontram na pasta 'dados' e possuem formato .tsv (Tab Separated Values)."
      ]
    },
    {
      "metadata": {
        "id": "0Se1PZmCZw7h",
        "colab_type": "code",
        "colab": {}
      },
      "cell_type": "code",
      "source": [
        "df_train = pd.read_csv('train.tsv', delimiter='\\t')\n",
        "df_test = pd.read_csv('test.tsv', delimiter='\\t')"
      ],
      "execution_count": 0,
      "outputs": []
    },
    {
      "metadata": {
        "id": "XHUtuYglZw7t",
        "colab_type": "code",
        "outputId": "764c8f27-208b-40c7-91b5-e650724a0146",
        "colab": {
          "base_uri": "https://localhost:8080/",
          "height": 363
        }
      },
      "cell_type": "code",
      "source": [
        "df_train.head(10)"
      ],
      "execution_count": 7,
      "outputs": [
        {
          "output_type": "execute_result",
          "data": {
            "text/html": [
              "<div>\n",
              "<style scoped>\n",
              "    .dataframe tbody tr th:only-of-type {\n",
              "        vertical-align: middle;\n",
              "    }\n",
              "\n",
              "    .dataframe tbody tr th {\n",
              "        vertical-align: top;\n",
              "    }\n",
              "\n",
              "    .dataframe thead th {\n",
              "        text-align: right;\n",
              "    }\n",
              "</style>\n",
              "<table border=\"1\" class=\"dataframe\">\n",
              "  <thead>\n",
              "    <tr style=\"text-align: right;\">\n",
              "      <th></th>\n",
              "      <th>Id</th>\n",
              "      <th>IdSentenca</th>\n",
              "      <th>Texto</th>\n",
              "      <th>Sentimento</th>\n",
              "    </tr>\n",
              "  </thead>\n",
              "  <tbody>\n",
              "    <tr>\n",
              "      <th>0</th>\n",
              "      <td>1</td>\n",
              "      <td>1</td>\n",
              "      <td>A series of escapades demonstrating the adage ...</td>\n",
              "      <td>1</td>\n",
              "    </tr>\n",
              "    <tr>\n",
              "      <th>1</th>\n",
              "      <td>2</td>\n",
              "      <td>1</td>\n",
              "      <td>A series of escapades demonstrating the adage ...</td>\n",
              "      <td>2</td>\n",
              "    </tr>\n",
              "    <tr>\n",
              "      <th>2</th>\n",
              "      <td>3</td>\n",
              "      <td>1</td>\n",
              "      <td>A series</td>\n",
              "      <td>2</td>\n",
              "    </tr>\n",
              "    <tr>\n",
              "      <th>3</th>\n",
              "      <td>4</td>\n",
              "      <td>1</td>\n",
              "      <td>A</td>\n",
              "      <td>2</td>\n",
              "    </tr>\n",
              "    <tr>\n",
              "      <th>4</th>\n",
              "      <td>5</td>\n",
              "      <td>1</td>\n",
              "      <td>series</td>\n",
              "      <td>2</td>\n",
              "    </tr>\n",
              "    <tr>\n",
              "      <th>5</th>\n",
              "      <td>6</td>\n",
              "      <td>1</td>\n",
              "      <td>of escapades demonstrating the adage that what...</td>\n",
              "      <td>2</td>\n",
              "    </tr>\n",
              "    <tr>\n",
              "      <th>6</th>\n",
              "      <td>7</td>\n",
              "      <td>1</td>\n",
              "      <td>of</td>\n",
              "      <td>2</td>\n",
              "    </tr>\n",
              "    <tr>\n",
              "      <th>7</th>\n",
              "      <td>8</td>\n",
              "      <td>1</td>\n",
              "      <td>escapades demonstrating the adage that what is...</td>\n",
              "      <td>2</td>\n",
              "    </tr>\n",
              "    <tr>\n",
              "      <th>8</th>\n",
              "      <td>9</td>\n",
              "      <td>1</td>\n",
              "      <td>escapades</td>\n",
              "      <td>2</td>\n",
              "    </tr>\n",
              "    <tr>\n",
              "      <th>9</th>\n",
              "      <td>10</td>\n",
              "      <td>1</td>\n",
              "      <td>demonstrating the adage that what is good for ...</td>\n",
              "      <td>2</td>\n",
              "    </tr>\n",
              "  </tbody>\n",
              "</table>\n",
              "</div>"
            ],
            "text/plain": [
              "   Id  IdSentenca                                              Texto  \\\n",
              "0   1           1  A series of escapades demonstrating the adage ...   \n",
              "1   2           1  A series of escapades demonstrating the adage ...   \n",
              "2   3           1                                           A series   \n",
              "3   4           1                                                  A   \n",
              "4   5           1                                             series   \n",
              "5   6           1  of escapades demonstrating the adage that what...   \n",
              "6   7           1                                                 of   \n",
              "7   8           1  escapades demonstrating the adage that what is...   \n",
              "8   9           1                                          escapades   \n",
              "9  10           1  demonstrating the adage that what is good for ...   \n",
              "\n",
              "   Sentimento  \n",
              "0           1  \n",
              "1           2  \n",
              "2           2  \n",
              "3           2  \n",
              "4           2  \n",
              "5           2  \n",
              "6           2  \n",
              "7           2  \n",
              "8           2  \n",
              "9           2  "
            ]
          },
          "metadata": {
            "tags": []
          },
          "execution_count": 7
        }
      ]
    },
    {
      "metadata": {
        "id": "SDeT2b4KZw75",
        "colab_type": "text"
      },
      "cell_type": "markdown",
      "source": [
        "Com auxílio do módulo <i>re</i> (<i>Regular expressions</i>) foi possível pré processar os dados textuais do <i>DataFrame</i>. Todos os sinais de pontuação foram removidos e as letras em maiúsculo foram substituídas pelas respectivas letras em minúsculo."
      ]
    },
    {
      "metadata": {
        "id": "N1392GmTZw7-",
        "colab_type": "code",
        "colab": {}
      },
      "cell_type": "code",
      "source": [
        "REPLACE_NO_SPACE = re.compile(\"(\\.)|(\\;)|(\\:)|(\\!)|(\\')|(\\?)|(\\,)|(\\\")|(\\()|(\\))|(\\[)|(\\])\")\n",
        "REPLACE_WITH_SPACE = re.compile(\"(<br\\s*/><br\\s*/>)|(\\-)|(\\/)\")\n",
        "\n",
        "def preprocess_text(text):\n",
        "    text = [REPLACE_NO_SPACE.sub(\"\", line.lower()) for line in text]\n",
        "    text = [REPLACE_WITH_SPACE.sub(\" \", line) for line in text]\n",
        "\n",
        "    return text"
      ],
      "execution_count": 0,
      "outputs": []
    },
    {
      "metadata": {
        "id": "-7QANLwuZw8G",
        "colab_type": "code",
        "colab": {}
      },
      "cell_type": "code",
      "source": [
        "df_train.Texto = preprocess_text(df_train.Texto)\n",
        "df_test.Texto = preprocess_text(df_test.Texto)"
      ],
      "execution_count": 0,
      "outputs": []
    },
    {
      "metadata": {
        "id": "Z3ZQfo03Zw8f",
        "colab_type": "text"
      },
      "cell_type": "markdown",
      "source": [
        "Nota-se pelo cabeçalho do DataFrame que as alterações foram realizadas com sucesso."
      ]
    },
    {
      "metadata": {
        "id": "qKfyJcS7Zw8p",
        "colab_type": "code",
        "outputId": "6eae25f7-4dd5-492f-b176-c97077116fc2",
        "colab": {
          "base_uri": "https://localhost:8080/",
          "height": 363
        }
      },
      "cell_type": "code",
      "source": [
        "df_train.head(10)"
      ],
      "execution_count": 10,
      "outputs": [
        {
          "output_type": "execute_result",
          "data": {
            "text/html": [
              "<div>\n",
              "<style scoped>\n",
              "    .dataframe tbody tr th:only-of-type {\n",
              "        vertical-align: middle;\n",
              "    }\n",
              "\n",
              "    .dataframe tbody tr th {\n",
              "        vertical-align: top;\n",
              "    }\n",
              "\n",
              "    .dataframe thead th {\n",
              "        text-align: right;\n",
              "    }\n",
              "</style>\n",
              "<table border=\"1\" class=\"dataframe\">\n",
              "  <thead>\n",
              "    <tr style=\"text-align: right;\">\n",
              "      <th></th>\n",
              "      <th>Id</th>\n",
              "      <th>IdSentenca</th>\n",
              "      <th>Texto</th>\n",
              "      <th>Sentimento</th>\n",
              "    </tr>\n",
              "  </thead>\n",
              "  <tbody>\n",
              "    <tr>\n",
              "      <th>0</th>\n",
              "      <td>1</td>\n",
              "      <td>1</td>\n",
              "      <td>a series of escapades demonstrating the adage ...</td>\n",
              "      <td>1</td>\n",
              "    </tr>\n",
              "    <tr>\n",
              "      <th>1</th>\n",
              "      <td>2</td>\n",
              "      <td>1</td>\n",
              "      <td>a series of escapades demonstrating the adage ...</td>\n",
              "      <td>2</td>\n",
              "    </tr>\n",
              "    <tr>\n",
              "      <th>2</th>\n",
              "      <td>3</td>\n",
              "      <td>1</td>\n",
              "      <td>a series</td>\n",
              "      <td>2</td>\n",
              "    </tr>\n",
              "    <tr>\n",
              "      <th>3</th>\n",
              "      <td>4</td>\n",
              "      <td>1</td>\n",
              "      <td>a</td>\n",
              "      <td>2</td>\n",
              "    </tr>\n",
              "    <tr>\n",
              "      <th>4</th>\n",
              "      <td>5</td>\n",
              "      <td>1</td>\n",
              "      <td>series</td>\n",
              "      <td>2</td>\n",
              "    </tr>\n",
              "    <tr>\n",
              "      <th>5</th>\n",
              "      <td>6</td>\n",
              "      <td>1</td>\n",
              "      <td>of escapades demonstrating the adage that what...</td>\n",
              "      <td>2</td>\n",
              "    </tr>\n",
              "    <tr>\n",
              "      <th>6</th>\n",
              "      <td>7</td>\n",
              "      <td>1</td>\n",
              "      <td>of</td>\n",
              "      <td>2</td>\n",
              "    </tr>\n",
              "    <tr>\n",
              "      <th>7</th>\n",
              "      <td>8</td>\n",
              "      <td>1</td>\n",
              "      <td>escapades demonstrating the adage that what is...</td>\n",
              "      <td>2</td>\n",
              "    </tr>\n",
              "    <tr>\n",
              "      <th>8</th>\n",
              "      <td>9</td>\n",
              "      <td>1</td>\n",
              "      <td>escapades</td>\n",
              "      <td>2</td>\n",
              "    </tr>\n",
              "    <tr>\n",
              "      <th>9</th>\n",
              "      <td>10</td>\n",
              "      <td>1</td>\n",
              "      <td>demonstrating the adage that what is good for ...</td>\n",
              "      <td>2</td>\n",
              "    </tr>\n",
              "  </tbody>\n",
              "</table>\n",
              "</div>"
            ],
            "text/plain": [
              "   Id  IdSentenca                                              Texto  \\\n",
              "0   1           1  a series of escapades demonstrating the adage ...   \n",
              "1   2           1  a series of escapades demonstrating the adage ...   \n",
              "2   3           1                                           a series   \n",
              "3   4           1                                                  a   \n",
              "4   5           1                                             series   \n",
              "5   6           1  of escapades demonstrating the adage that what...   \n",
              "6   7           1                                                 of   \n",
              "7   8           1  escapades demonstrating the adage that what is...   \n",
              "8   9           1                                          escapades   \n",
              "9  10           1  demonstrating the adage that what is good for ...   \n",
              "\n",
              "   Sentimento  \n",
              "0           1  \n",
              "1           2  \n",
              "2           2  \n",
              "3           2  \n",
              "4           2  \n",
              "5           2  \n",
              "6           2  \n",
              "7           2  \n",
              "8           2  \n",
              "9           2  "
            ]
          },
          "metadata": {
            "tags": []
          },
          "execution_count": 10
        }
      ]
    },
    {
      "metadata": {
        "id": "9tvnRJZsZw87",
        "colab_type": "text"
      },
      "cell_type": "markdown",
      "source": [
        "## 2) Extração de atributos"
      ]
    },
    {
      "metadata": {
        "scrolled": true,
        "id": "bwsFVURTZw9A",
        "colab_type": "code",
        "outputId": "a48884a7-52a5-493e-8e36-07eb579e59c5",
        "colab": {
          "base_uri": "https://localhost:8080/",
          "height": 121
        }
      },
      "cell_type": "code",
      "source": [
        "cv = CountVectorizer(binary=True)\n",
        "cv.fit(df_train.Texto)"
      ],
      "execution_count": 11,
      "outputs": [
        {
          "output_type": "execute_result",
          "data": {
            "text/plain": [
              "CountVectorizer(analyzer='word', binary=True, decode_error='strict',\n",
              "        dtype=<class 'numpy.int64'>, encoding='utf-8', input='content',\n",
              "        lowercase=True, max_df=1.0, max_features=None, min_df=1,\n",
              "        ngram_range=(1, 1), preprocessor=None, stop_words=None,\n",
              "        strip_accents=None, token_pattern='(?u)\\\\b\\\\w\\\\w+\\\\b',\n",
              "        tokenizer=None, vocabulary=None)"
            ]
          },
          "metadata": {
            "tags": []
          },
          "execution_count": 11
        }
      ]
    },
    {
      "metadata": {
        "id": "LZeh6P4HZw9S",
        "colab_type": "code",
        "colab": {}
      },
      "cell_type": "code",
      "source": [
        "X = cv.transform(df_train.Texto)\n",
        "y = df_train.Sentimento.values\n",
        "y = y.astype('str')"
      ],
      "execution_count": 0,
      "outputs": []
    },
    {
      "metadata": {
        "id": "Oa8PW71xZw9c",
        "colab_type": "text"
      },
      "cell_type": "markdown",
      "source": [
        "## 3) Análise dos dados"
      ]
    },
    {
      "metadata": {
        "id": "QzdI9YQtZw9f",
        "colab_type": "code",
        "outputId": "f1f488d0-a26c-4a31-a008-93f535a39bf2",
        "colab": {
          "base_uri": "https://localhost:8080/",
          "height": 428
        }
      },
      "cell_type": "code",
      "source": [
        "sns.countplot(y)\n",
        "plt.xlabel('Sentimento')\n",
        "plt.ylabel('Contagem')\n",
        "plt.title('Quantidade de dados por classe')"
      ],
      "execution_count": 28,
      "outputs": [
        {
          "output_type": "stream",
          "text": [
            "/usr/local/lib/python3.6/dist-packages/seaborn/categorical.py:1428: FutureWarning: remove_na is deprecated and is a private function. Do not use.\n",
            "  stat_data = remove_na(group_data)\n"
          ],
          "name": "stderr"
        },
        {
          "output_type": "execute_result",
          "data": {
            "text/plain": [
              "Text(0.5,1,'Quantidade de dados por classe')"
            ]
          },
          "metadata": {
            "tags": []
          },
          "execution_count": 28
        },
        {
          "output_type": "display_data",
          "data": {
            "image/png": "[encoded data removed]",
            "text/plain": [
              "<matplotlib.figure.Figure at 0x7fe52bac6c50>"
            ]
          },
          "metadata": {
            "tags": []
          }
        }
      ]
    },
    {
      "metadata": {
        "id": "pszCv9c1Zw9q",
        "colab_type": "text"
      },
      "cell_type": "markdown",
      "source": [
        "O gráfico acima indica um alto desbalanceamento para as classes extremas. Isso ocorre em partes porque foram extraídos trechos de cada <i>review</i>, de modo que mais objetos da classe <i>neutro</i> fossem criados. Desta forma, os dados das classes \"centrais\" serão classificadas com maior facilidade, visto que qualquer frase desconexa será encaixada em uma delas.<br><br>\n",
        "A seguir os dados são particionados em conjunto de treinamento e validação. Como os nomes sugerem, o primeiro conjunto servirá para treinar os classificadores propostos e o segundo avaliará o desempenho dos modelos."
      ]
    },
    {
      "metadata": {
        "id": "koIyvZfdZw9v",
        "colab_type": "code",
        "colab": {}
      },
      "cell_type": "code",
      "source": [
        "X_train, X_val, y_train, y_val = train_test_split(X, y, test_size=0.2)"
      ],
      "execution_count": 0,
      "outputs": []
    },
    {
      "metadata": {
        "id": "1qfZ3Po0Zw93",
        "colab_type": "code",
        "colab": {}
      },
      "cell_type": "code",
      "source": [
        "X_test = cv.transform(df_test.Texto)"
      ],
      "execution_count": 0,
      "outputs": []
    },
    {
      "metadata": {
        "id": "uvf5cia5Zw-A",
        "colab_type": "text"
      },
      "cell_type": "markdown",
      "source": [
        "## 4) Classificação"
      ]
    },
    {
      "metadata": {
        "id": "2Wjh5MBhZw-E",
        "colab_type": "text"
      },
      "cell_type": "markdown",
      "source": [
        "Serão utilizados 3 classificadores: regressão logística, <i>random subspace</i> e CNN. Nos dois primeirso classificadores, foi realizado um <i>gridsearch</i> em um parâmetro específico de modo que se obtenha a melhor configuração testada em um conjunto de validação. Como verificado acima, a base de dados é desbalanceada nas classes extremas (<i>negativo</i> e <i>positivo</i>). Por este motivo, o <i>classification report</i> também será exibido para análise mais detalhada."
      ]
    },
    {
      "metadata": {
        "id": "Bnz2t5hMZw-J",
        "colab_type": "code",
        "colab": {}
      },
      "cell_type": "code",
      "source": [
        "from sklearn.linear_model import LogisticRegression\n",
        "from sklearn.ensemble import BaggingClassifier"
      ],
      "execution_count": 0,
      "outputs": []
    },
    {
      "metadata": {
        "id": "tfrXMF2MZw-W",
        "colab_type": "text"
      },
      "cell_type": "markdown",
      "source": [
        "### Logistic Regression"
      ]
    },
    {
      "metadata": {
        "id": "z-QRqJliZw-d",
        "colab_type": "text"
      },
      "cell_type": "markdown",
      "source": [
        "O modelo de regressão logística, comparado a outros modelos, é mais fácil de ser interpretado e de aprendizagem mais rápida. Além de que modelos lineares tendem a performar bem em bases de dados dispersas. O parâmetro <i>C</i> explorado representa um coeficiente de regularização, utilizado para reduzir os efeitos de <i>overfitting</i> durante a aprendizagem."
      ]
    },
    {
      "metadata": {
        "id": "BoRhKcMzZw-g",
        "colab_type": "code",
        "outputId": "954aad7b-f55a-4f52-8aab-f1065910bf02",
        "colab": {
          "base_uri": "https://localhost:8080/",
          "height": 350
        }
      },
      "cell_type": "code",
      "source": [
        "aux_score = np.Inf\n",
        "for c in [0.05, 0.25, 0.5, 1, 1.25]:\n",
        "    lr = LogisticRegression(C=c)\n",
        "    lr.fit(X_train, y_train)\n",
        "    y_pred = lr.predict(X_val)\n",
        "    score = accuracy_score(y_val, y_pred)\n",
        "    if score < aux_score:\n",
        "        best_pred = y_pred[:]\n",
        "        best_c = c\n",
        "        best_lr = lr\n",
        "print (\"C = %s - Accuracy: %.3f\" % (best_c, accuracy_score(y_val, best_pred)))\n",
        "print('Classification report:\\n',classification_report(y_val, best_pred))"
      ],
      "execution_count": 17,
      "outputs": [
        {
          "output_type": "stream",
          "text": [
            "/usr/local/lib/python3.6/dist-packages/sklearn/linear_model/logistic.py:433: FutureWarning: Default solver will be changed to 'lbfgs' in 0.22. Specify a solver to silence this warning.\n",
            "  FutureWarning)\n",
            "/usr/local/lib/python3.6/dist-packages/sklearn/linear_model/logistic.py:460: FutureWarning: Default multi_class will be changed to 'auto' in 0.22. Specify the multi_class option to silence this warning.\n",
            "  \"this warning.\", FutureWarning)\n"
          ],
          "name": "stderr"
        },
        {
          "output_type": "stream",
          "text": [
            "C = 1.25 - Accuracy: 0.642\n",
            "Classification report:\n",
            "               precision    recall  f1-score   support\n",
            "\n",
            "           0       0.53      0.29      0.37      1410\n",
            "           1       0.56      0.38      0.45      5527\n",
            "           2       0.68      0.89      0.77     15957\n",
            "           3       0.59      0.43      0.50      6516\n",
            "           4       0.59      0.34      0.43      1802\n",
            "\n",
            "   micro avg       0.64      0.64      0.64     31212\n",
            "   macro avg       0.59      0.46      0.50     31212\n",
            "weighted avg       0.63      0.64      0.62     31212\n",
            "\n"
          ],
          "name": "stdout"
        }
      ]
    },
    {
      "metadata": {
        "id": "-BLeoueZZw-w",
        "colab_type": "text"
      },
      "cell_type": "markdown",
      "source": [
        "### Random subspace"
      ]
    },
    {
      "metadata": {
        "id": "XGVi_cy5Zw-y",
        "colab_type": "text"
      },
      "cell_type": "markdown",
      "source": [
        "Para problemas de classificação em que exista o problema de alta dimensionalidade (grande quantidade de atributos), uma técnica bastante utilizada é o <i>Random Subspace</i>. O método consiste em coletar subconjuntos de mesmo tamanho do conjunto original, porém, com o número de atributos reduzido e de forma aleatória. O parâmetro  <i>max_features</i> explorado indica a proporção de atributos do conjunto original que serão selecionados para formar o novo subconjunto.<br><br>\n",
        "Logo, para cada subconjunto será treinado um classificador (árvore de decisão). No final do processo, será obtido um <i>ensemble</i> de 20 classificadores."
      ]
    },
    {
      "metadata": {
        "id": "dgQTCJpUZw-7",
        "colab_type": "code",
        "outputId": "755088bf-4bb2-4554-e9cb-a08a477d55c0",
        "colab": {
          "base_uri": "https://localhost:8080/",
          "height": 260
        }
      },
      "cell_type": "code",
      "source": [
        "aux_score = np.Inf\n",
        "for max_ in [0.5, 0.6, 0.7]:\n",
        "    bag = BaggingClassifier(n_estimators=20, max_features=max_, max_samples=1.0)\n",
        "    bag.fit(X_train, y_train)\n",
        "    y_pred = bag.predict(X_val)\n",
        "    score = accuracy_score(y_val, y_pred)\n",
        "    if score < aux_score:\n",
        "        best_pred = y_pred[:]\n",
        "        best_max = max_\n",
        "        best_bag = bag\n",
        "print (\"Max_feature = %s - Accuracy: %.3f\" % (best_max, accuracy_score(y_val, best_pred)))\n",
        "print('Classification report:\\n',classification_report(y_val, best_pred))"
      ],
      "execution_count": 18,
      "outputs": [
        {
          "output_type": "stream",
          "text": [
            "Max_feature = 0.7 - Accuracy: 0.641\n",
            "Classification report:\n",
            "               precision    recall  f1-score   support\n",
            "\n",
            "           0       0.48      0.36      0.41      1410\n",
            "           1       0.56      0.44      0.49      5527\n",
            "           2       0.70      0.83      0.76     15957\n",
            "           3       0.57      0.49      0.52      6516\n",
            "           4       0.51      0.39      0.44      1802\n",
            "\n",
            "   micro avg       0.64      0.64      0.64     31212\n",
            "   macro avg       0.56      0.50      0.53     31212\n",
            "weighted avg       0.63      0.64      0.63     31212\n",
            "\n"
          ],
          "name": "stdout"
        }
      ]
    },
    {
      "metadata": {
        "id": "1nTqD-OlZw_O",
        "colab_type": "text"
      },
      "cell_type": "markdown",
      "source": [
        "### Deep learning"
      ]
    },
    {
      "metadata": {
        "id": "5h13YsV6j4zl",
        "colab_type": "text"
      },
      "cell_type": "markdown",
      "source": [
        "Para bases de dados consideradas grandes e com alta dimensionalidade, é interessante encontrar modelos de aprendizagem com uma quantidade adequada de parâmetros para serem ajustados. Por este motivo, foi escolhido como o terceiro modelo uma rede neural profunda conhecida por <i>Convolutional Neural Network</i>. A rede construída possui 3 camadas, onde a primeira possui 500 neurônios, a segunda possui 200 neurônios e por fim a última camada de saída possui os 4 neurônios responsável pela classificação. A função de ativação dos neurônios nas camadas intermediárias é <i>relu</i>, enquanto a função dos neurônios de saída é a função sigmóide."
      ]
    },
    {
      "metadata": {
        "id": "Ce_IfyObZw_Q",
        "colab_type": "code",
        "colab": {}
      },
      "cell_type": "code",
      "source": [
        "from sklearn.preprocessing import OneHotEncoder\n",
        "from keras.models import Sequential\n",
        "from keras.layers import Dense"
      ],
      "execution_count": 0,
      "outputs": []
    },
    {
      "metadata": {
        "id": "DPFyZ696Zw_c",
        "colab_type": "code",
        "outputId": "04e6be5f-9b53-4420-de42-8523bd4fcf13",
        "colab": {
          "base_uri": "https://localhost:8080/",
          "height": 159
        }
      },
      "cell_type": "code",
      "source": [
        "enc = OneHotEncoder()\n",
        "enc.fit(y.reshape(-1,1))"
      ],
      "execution_count": 20,
      "outputs": [
        {
          "output_type": "stream",
          "text": [
            "/usr/local/lib/python3.6/dist-packages/sklearn/preprocessing/_encoders.py:368: FutureWarning: The handling of integer data will change in version 0.22. Currently, the categories are determined based on the range [0, max(values)], while in the future they will be determined based on the unique values.\n",
            "If you want the future behaviour and silence this warning, you can specify \"categories='auto'\".\n",
            "In case you used a LabelEncoder before this OneHotEncoder to convert the categories to integers, then you can now use the OneHotEncoder directly.\n",
            "  warnings.warn(msg, FutureWarning)\n"
          ],
          "name": "stderr"
        },
        {
          "output_type": "execute_result",
          "data": {
            "text/plain": [
              "OneHotEncoder(categorical_features=None, categories=None,\n",
              "       dtype=<class 'numpy.float64'>, handle_unknown='error',\n",
              "       n_values=None, sparse=True)"
            ]
          },
          "metadata": {
            "tags": []
          },
          "execution_count": 20
        }
      ]
    },
    {
      "metadata": {
        "id": "Q6rcp9W6Zw_q",
        "colab_type": "code",
        "colab": {}
      },
      "cell_type": "code",
      "source": [
        "y_train_ = enc.transform(y_train.reshape(-1,1))"
      ],
      "execution_count": 0,
      "outputs": []
    },
    {
      "metadata": {
        "id": "LPB_wYX0Zw_2",
        "colab_type": "code",
        "colab": {}
      },
      "cell_type": "code",
      "source": [
        "model = Sequential()\n",
        "model.add(Dense(500, input_dim=X.shape[1], activation='relu'))\n",
        "model.add(Dense(200, activation='relu'))\n",
        "model.add(Dense(5, activation='sigmoid'))"
      ],
      "execution_count": 0,
      "outputs": []
    },
    {
      "metadata": {
        "id": "1m6M0AF8ZxAE",
        "colab_type": "code",
        "colab": {}
      },
      "cell_type": "code",
      "source": [
        "model.compile(loss='binary_crossentropy', optimizer='adam', metrics=['accuracy'])"
      ],
      "execution_count": 0,
      "outputs": []
    },
    {
      "metadata": {
        "id": "E-3eDBPgZxAI",
        "colab_type": "code",
        "outputId": "fb856a19-f55b-4cd5-8f0f-148ecd7ede59",
        "colab": {
          "base_uri": "https://localhost:8080/",
          "height": 642
        }
      },
      "cell_type": "code",
      "source": [
        "model.fit(X_train, y_train_, epochs=70, batch_size=10)"
      ],
      "execution_count": 32,
      "outputs": [
        {
          "output_type": "stream",
          "text": [
            "Epoch 1/70\n",
            "124848/124848 [==============================] - 194s 2ms/step - loss: 0.3201 - acc: 0.8556\n",
            "Epoch 2/70\n",
            "124848/124848 [==============================] - 201s 2ms/step - loss: 0.2568 - acc: 0.8856\n",
            "Epoch 3/70\n",
            "124848/124848 [==============================] - 204s 2ms/step - loss: 0.2196 - acc: 0.9031\n",
            "Epoch 4/70\n",
            "124848/124848 [==============================] - 200s 2ms/step - loss: 0.1923 - acc: 0.9152\n",
            "Epoch 5/70\n",
            "124848/124848 [==============================] - 205s 2ms/step - loss: 0.1702 - acc: 0.9242\n",
            "Epoch 6/70\n",
            "124848/124848 [==============================] - 195s 2ms/step - loss: 0.1523 - acc: 0.9326\n",
            "Epoch 7/70\n",
            "124848/124848 [==============================] - 199s 2ms/step - loss: 0.1379 - acc: 0.9387\n",
            "Epoch 8/70\n",
            "124848/124848 [==============================] - 203s 2ms/step - loss: 0.1264 - acc: 0.9446\n",
            "Epoch 9/70\n",
            "124848/124848 [==============================] - 204s 2ms/step - loss: 0.1174 - acc: 0.9483\n",
            "Epoch 10/70\n",
            "124848/124848 [==============================] - 201s 2ms/step - loss: 0.1098 - acc: 0.9516\n",
            "Epoch 11/70\n",
            "124848/124848 [==============================] - 197s 2ms/step - loss: 0.1032 - acc: 0.9545\n",
            "Epoch 12/70\n",
            "124848/124848 [==============================] - 196s 2ms/step - loss: 0.0978 - acc: 0.9569\n",
            "Epoch 13/70\n",
            "124848/124848 [==============================] - 207s 2ms/step - loss: 0.0936 - acc: 0.9586\n",
            "Epoch 14/70\n",
            "124848/124848 [==============================] - 203s 2ms/step - loss: 0.0898 - acc: 0.9600\n",
            "Epoch 15/70\n",
            "124848/124848 [==============================] - 204s 2ms/step - loss: 0.0868 - acc: 0.9615\n",
            "Epoch 16/70\n",
            "124848/124848 [==============================] - 194s 2ms/step - loss: 0.0838 - acc: 0.9627\n",
            "Epoch 17/70\n",
            "124848/124848 [==============================] - 197s 2ms/step - loss: 0.0814 - acc: 0.9637\n",
            "Epoch 18/70\n",
            " 45550/124848 [=========>....................] - ETA: 2:09 - loss: 0.0683 - acc: 0.9689Buffered data was truncated after reaching the output size limit."
          ],
          "name": "stdout"
        }
      ]
    },
    {
      "metadata": {
        "id": "NhauIa6PAUnc",
        "colab_type": "code",
        "colab": {}
      },
      "cell_type": "code",
      "source": [
        "y_val_ = enc.transform(y_val.reshape(-1,1))"
      ],
      "execution_count": 0,
      "outputs": []
    },
    {
      "metadata": {
        "id": "WC-qAlPsZxAa",
        "colab_type": "code",
        "colab": {}
      },
      "cell_type": "code",
      "source": [
        "y_pred = model.predict(X_val)"
      ],
      "execution_count": 0,
      "outputs": []
    },
    {
      "metadata": {
        "id": "6mhSPmBe_eSr",
        "colab_type": "code",
        "outputId": "96e68c5f-26c9-46ab-e70c-6f53424f7e34",
        "colab": {
          "base_uri": "https://localhost:8080/",
          "height": 52
        }
      },
      "cell_type": "code",
      "source": [
        "score, acc = model.evaluate(X_val, y_val_,\n",
        "                            batch_size=10)\n",
        "print('Test accuracy:', acc)"
      ],
      "execution_count": 36,
      "outputs": [
        {
          "output_type": "stream",
          "text": [
            "31212/31212 [==============================] - 13s 424us/step\n",
            "Test accuracy: 0.849474561591798\n"
          ],
          "name": "stdout"
        }
      ]
    },
    {
      "metadata": {
        "id": "el6fi4wNPDN0",
        "colab_type": "code",
        "colab": {}
      },
      "cell_type": "code",
      "source": [
        "cnn_prediction = enc.inverse_transform(y_pred.round()).T[0].astype(int)"
      ],
      "execution_count": 0,
      "outputs": []
    },
    {
      "metadata": {
        "id": "_BQdoLyJPhSn",
        "colab_type": "code",
        "colab": {
          "base_uri": "https://localhost:8080/",
          "height": 34
        },
        "outputId": "2ee8e104-995c-46b7-c645-3e7a402f0297"
      },
      "cell_type": "code",
      "source": [
        "cnn_prediction"
      ],
      "execution_count": 61,
      "outputs": [
        {
          "output_type": "execute_result",
          "data": {
            "text/plain": [
              "array([3, 4, 3, ..., 2, 2, 3])"
            ]
          },
          "metadata": {
            "tags": []
          },
          "execution_count": 61
        }
      ]
    },
    {
      "metadata": {
        "id": "OC7ufFHXH8w0",
        "colab_type": "code",
        "outputId": "ec19cee6-513c-4688-80a4-41de1c2048d5",
        "colab": {
          "base_uri": "https://localhost:8080/",
          "height": 225
        }
      },
      "cell_type": "code",
      "source": [
        "print(classification_report(y_val, cnn_prediction.astype(str)))"
      ],
      "execution_count": 62,
      "outputs": [
        {
          "output_type": "stream",
          "text": [
            "              precision    recall  f1-score   support\n",
            "\n",
            "           0       0.22      0.45      0.29      1410\n",
            "           1       0.52      0.47      0.50      5527\n",
            "           2       0.74      0.73      0.73     15957\n",
            "           3       0.54      0.52      0.53      6516\n",
            "           4       0.51      0.38      0.44      1802\n",
            "\n",
            "   micro avg       0.60      0.60      0.60     31212\n",
            "   macro avg       0.51      0.51      0.50     31212\n",
            "weighted avg       0.62      0.60      0.61     31212\n",
            "\n"
          ],
          "name": "stdout"
        }
      ]
    },
    {
      "metadata": {
        "id": "ErqhrvNXRUc5",
        "colab_type": "text"
      },
      "cell_type": "markdown",
      "source": [
        "## 5) Test.csv"
      ]
    },
    {
      "metadata": {
        "id": "FSnWHzOERhT5",
        "colab_type": "text"
      },
      "cell_type": "markdown",
      "source": [
        "Visto que as classes do conjunto <i>test.csv</i> não estão disponíveis para avaliar os modelos, foram geradas as saídas dos classificadores para todas as instâncias do <i>data set</i> de teste. Desta forma, os avaliadores poderão comparar as respostas geradas dos modelos com as verdadeiras classes."
      ]
    },
    {
      "metadata": {
        "id": "xjTp9FioSnea",
        "colab_type": "code",
        "colab": {}
      },
      "cell_type": "code",
      "source": [
        "saidas = pd.DataFrame()\n",
        "saidas['Logistic_regression'] = lr.predict(X_test)\n",
        "saidas['Random_subspace'] = bag.predict(X_test)\n",
        "saidas['CNN'] = enc.inverse_transform(model.predict(X_test).round()).T[0].astype(int)"
      ],
      "execution_count": 0,
      "outputs": []
    },
    {
      "metadata": {
        "id": "2Jcm-rXGT7CC",
        "colab_type": "code",
        "colab": {}
      },
      "cell_type": "code",
      "source": [
        "saidas.to_csv('models_output.csv')"
      ],
      "execution_count": 0,
      "outputs": []
    }
  ]
}